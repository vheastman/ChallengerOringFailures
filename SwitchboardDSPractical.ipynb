{
  "nbformat": 4,
  "nbformat_minor": 0,
  "metadata": {
    "colab": {
      "provenance": [],
      "mount_file_id": "1sSBr0RCP0Mekp3XkXdkV7VPDnhTHJYAu",
      "authorship_tag": "ABX9TyOmSRTd16dwPPjq7E+aPbQZ",
      "include_colab_link": true
    },
    "kernelspec": {
      "name": "python3",
      "display_name": "Python 3"
    },
    "language_info": {
      "name": "python"
    },
    "gpuClass": "standard"
  },
  "cells": [
    {
      "cell_type": "markdown",
      "metadata": {
        "id": "view-in-github",
        "colab_type": "text"
      },
      "source": [
        "<a href=\"https://colab.research.google.com/github/vheastman/ChallengerOringFailures/blob/master/SwitchboardDSPractical.ipynb\" target=\"_parent\"><img src=\"https://colab.research.google.com/assets/colab-badge.svg\" alt=\"Open In Colab\"/></a>"
      ]
    },
    {
      "cell_type": "markdown",
      "source": [
        "# Switchboard Data Science Practical\n",
        "\n",
        "Date: February 5th, 2023\n",
        "\n",
        "## Prompt 1\n",
        "\n",
        "**Prompt 1**: Based on the provided data, what aspects of message sends seem most relevant to engagement? If you were going to provide direct guidance to customers running messaging programs, what would you tell them (if anything)?\n",
        "\n",
        "### Outline of work below\n",
        "\n",
        "In this notebook, I have done some brief EDA to explore the data provided in the two csv files. Based on that exploration, I have made some decisions about what to include and exclude from my initial model to determine the factors most important in user engagment with messaging campaigns. \n",
        "\n",
        "#### Assumptions and Observations:\n",
        "- Based on the data dictionary, I'm assuming the [broadcast_id, organization_id] combination can be used to identify distinct messaging campaigns.\n",
        "- The `created` column in the actions table corresponds to when the action was taken and can be used to compare to the `sent_time` column in the messages table. This assumption was not validated by the data and several messages had `sent_time` after the action time so this was left out of my initial modelling. \n",
        "- The data dictionary says that only messages that contain the tracking parameter can be tracked for the desired follow-up actions. Therefore, I have removed messages that do not contain the tracking parameter. \n",
        "- Similarly, I noticed that some messages did not have a `sent_time` even though all messages are designed as having been delivered. Since this is an important data point in my model below, I've removed entries that do not have a `sent_time` value. \n",
        "- Message type was included in the dataset, however, once I did the initial cleaning described above, the only messages that were left were sms messages. Further investigation should be done to optimize message type, especially because mms messages have a greater opportunity for dynamic and personalized messaging. \n",
        "\n",
        "#### Model inputs: \n",
        "\n",
        "At the bottom of this notebook, I have run two simple logistic regression models to understand the impact of the following variables on message clicks and donations. \n",
        "\n",
        "- Send hour of day\n",
        "- Message length in number of words\n",
        "- Send day of week\n",
        "\n",
        "#### Model results:\n",
        "\n",
        "According to the model, the factors that have a positive impact on message click or donation actions are the hour of the day in which the message was sent and the message length. Much more work should be done to validate these results, further refine the model, and explore other inputs to ensure our findings are accurate and thorough. \n",
        "\n",
        "## Prompt 2\n",
        "\n",
        "**Prompt 2**: Based on your exploration of this data set, what other questions do you have? What would you want to collect more data on (or spend more time with this data) to understand better, and/or what questions would you have for customers, our customer-facing employees, or other folks on the team to help us help our customers run better programs?\n",
        "\n",
        "If I had more time, I would like to look into the following ideas: \n",
        "- Clean and incorporate the timedeltas between message send and message action: Can we observe that users are more likely to take the desired action if they do so immediately after recieving the message. Would this impact when we send messages so users are in a position to more easily take action?\n",
        "- Message content: specifically looking at sentiment of the message and other factors like how many strongly encouraging words are included in a message and how that impacts the actions that are taken. \n",
        "- Clear CTA: Is the desired action clearly defined in the message? Is the follow-up action easy to accomplish or is the failure of follow-up action the result of a poor user experience further down the pipeline?\n",
        "- Personalization: Does the message contain a personalized element such as name?\n",
        "- Geography (using area codes)\n",
        "- [not in this data] Audience optimization: Can we use demographic data of the message recipients to optimize who we are sending to in order to drive more follow-up actions?\n"
      ],
      "metadata": {
        "id": "98DbBQG0XTwj"
      }
    },
    {
      "cell_type": "code",
      "execution_count": 1,
      "metadata": {
        "id": "0G9zeizPVnHF"
      },
      "outputs": [],
      "source": [
        "import pandas as pd\n",
        "import numpy as np\n",
        "import matplotlib.pyplot as plt"
      ]
    },
    {
      "cell_type": "code",
      "source": [
        "## Connect to data in google drive\n",
        "\n",
        "# Code to read csv file into Colaboratory:\n",
        "#!pip install -U -q PyDrive\n",
        "from pydrive.auth import GoogleAuth\n",
        "from pydrive.drive import GoogleDrive\n",
        "from google.colab import auth\n",
        "from oauth2client.client import GoogleCredentials\n",
        "# Authenticate and create the PyDrive client.\n",
        "auth.authenticate_user()\n",
        "gauth = GoogleAuth()\n",
        "gauth.credentials = GoogleCredentials.get_application_default()\n",
        "drive = GoogleDrive(gauth)"
      ],
      "metadata": {
        "id": "kE4FcLVCcDzG"
      },
      "execution_count": 2,
      "outputs": []
    },
    {
      "cell_type": "code",
      "source": [
        "import warnings\n",
        "warnings.filterwarnings(\"ignore\")"
      ],
      "metadata": {
        "id": "nRPwGUxQVZvQ"
      },
      "execution_count": 3,
      "outputs": []
    },
    {
      "cell_type": "code",
      "source": [
        "## Read in csvs\n",
        "#https://drive.google.com/file/d/1FOguMSbGk26jlzkc-RMZHCM_4sl0t51F/view?usp=share_link\n",
        "#https://drive.google.com/file/d/12bgmU-bOCu9xu_TmhA0Pzfk6L4mCRaba/view?usp=share_link\n",
        "\n",
        "downloaded = drive.CreateFile({'id':'1FOguMSbGk26jlzkc-RMZHCM_4sl0t51F'}) \n",
        "downloaded.GetContentFile('actions.csv')  \n",
        "df_a = pd.read_csv('actions.csv')\n",
        "\n",
        "downloaded = drive.CreateFile({'id':'12bgmU-bOCu9xu_TmhA0Pzfk6L4mCRaba'}) \n",
        "downloaded.GetContentFile('messages.csv')  \n",
        "df_m = pd.read_csv('messages.csv')"
      ],
      "metadata": {
        "id": "0jt2hyX5cL2E"
      },
      "execution_count": 4,
      "outputs": []
    },
    {
      "cell_type": "code",
      "source": [
        "## Make some adjustments to the dfs\n",
        "\n",
        "# Convert appropriate columns to timestamps:\n",
        "for col in ['created', 'modified']:\n",
        "  df_m[col] = pd.to_datetime(df_m[col])\n",
        "  df_a[col] = pd.to_datetime(df_a[col])\n",
        "\n",
        "df_m['sent_time'] = pd.to_datetime(df_m['sent_time'])"
      ],
      "metadata": {
        "id": "Dwf8ma-6ybHq"
      },
      "execution_count": 5,
      "outputs": []
    },
    {
      "cell_type": "code",
      "source": [
        "## What size is the data?\n",
        "print(df_a.shape)\n",
        "print(df_m.shape)"
      ],
      "metadata": {
        "colab": {
          "base_uri": "https://localhost:8080/"
        },
        "id": "-Kw0pbt2f8s9",
        "outputId": "4e1ca107-c5b6-4ca9-b03a-c805a3764356"
      },
      "execution_count": 6,
      "outputs": [
        {
          "output_type": "stream",
          "name": "stdout",
          "text": [
            "(733650, 11)\n",
            "(2783096, 18)\n"
          ]
        }
      ]
    },
    {
      "cell_type": "code",
      "source": [
        "####### Data Validation\n",
        "## Which columns are empty?\n",
        "print(\"Actions Table:\")\n",
        "for col in df_a.columns:\n",
        "  print(col + \": \" + str(df_a[col].isnull().all(axis=0)))\n",
        "\n",
        "print()\n",
        "print(\"Messages Table:\")\n",
        "for col in df_m.columns:\n",
        "  print(col + \": \" + str(df_m[col].isnull().all(axis=0)))\n"
      ],
      "metadata": {
        "colab": {
          "base_uri": "https://localhost:8080/"
        },
        "id": "htI5GodLEdjY",
        "outputId": "3d7d7314-830e-4d2f-d321-ee5c61d96e33"
      },
      "execution_count": 7,
      "outputs": [
        {
          "output_type": "stream",
          "name": "stdout",
          "text": [
            "Actions Table:\n",
            "id: False\n",
            "created: False\n",
            "modified: False\n",
            "action: False\n",
            "metadata: True\n",
            "referrer: True\n",
            "user_agent: False\n",
            "query_parameters: True\n",
            "ip: False\n",
            "phone_message_id: False\n",
            "organization_id: False\n",
            "\n",
            "Messages Table:\n",
            "id: False\n",
            "created: False\n",
            "modified: False\n",
            "text: False\n",
            "is_from_contact: False\n",
            "send_status: False\n",
            "broadcast_id: False\n",
            "organization_id: False\n",
            "phone_contact_id: False\n",
            "provider: False\n",
            "provider_message_id: False\n",
            "provider_messaging_service_sid: False\n",
            "error_code: True\n",
            "error_message: True\n",
            "message_type: False\n",
            "sent_time: False\n",
            "from_number: True\n",
            "to_number: False\n"
          ]
        }
      ]
    },
    {
      "cell_type": "code",
      "source": [
        "## Drop empty columns to help with memory issues:\n",
        "for col in df_m.columns:\n",
        "  if df_m[col].isnull().all(axis=0):\n",
        "    df_m = df_m.drop(col, axis=1)\n",
        "\n",
        "## Remove rows with a missing `sent_date`\n",
        "df_m = df_m[df_m.sent_time.notna()]\n",
        "\n",
        "## Only keep rows for messages with the tracking parameter in them\n",
        "df_m = df_m[df_m['text'].str.contains(\"\\?t=\")]"
      ],
      "metadata": {
        "id": "MwM3piNnHSaC"
      },
      "execution_count": 35,
      "outputs": []
    },
    {
      "cell_type": "code",
      "source": [
        "# ## Look at the data\n",
        "# print(\"Actions Table:\")\n",
        "# print(df_a.head())\n",
        "\n",
        "# print(\"Messages Table:\")\n",
        "# print(df_m.head())"
      ],
      "metadata": {
        "id": "1cTfS2yVgp02"
      },
      "execution_count": 9,
      "outputs": []
    },
    {
      "cell_type": "code",
      "source": [
        "### Data Validation\n",
        "## Question: Do all messages with a 'Donation' action also have a 'Click' action?\n",
        "print(df_a.action.value_counts())\n",
        "print()\n",
        "print(\"Do all messages with a 'Donation' action also have a 'Click' action?\")\n",
        "set(df_a.loc[df_a['action'] == 'DONATION','phone_message_id']).issubset(set(df_a.loc[df_a['action'] == 'CLICK','phone_message_id']))\n",
        "\n",
        "## Answer: Yes! One message can have both action types"
      ],
      "metadata": {
        "colab": {
          "base_uri": "https://localhost:8080/"
        },
        "id": "7D85cZ_U_m-f",
        "outputId": "092cb2da-cb77-463a-d0fa-c0d04de6ee79"
      },
      "execution_count": 10,
      "outputs": [
        {
          "output_type": "stream",
          "name": "stdout",
          "text": [
            "CLICK       520344\n",
            "DONATION    213306\n",
            "Name: action, dtype: int64\n",
            "\n",
            "Do all messages with a 'Donation' action also have a 'Click' action?\n"
          ]
        },
        {
          "output_type": "execute_result",
          "data": {
            "text/plain": [
              "True"
            ]
          },
          "metadata": {},
          "execution_count": 10
        }
      ]
    },
    {
      "cell_type": "code",
      "source": [
        "## Merge tables to get actions with raw message data\n",
        "for act in ['CLICK', 'DONATION']:\n",
        "  df_m = pd.merge(df_m, df_a.loc[df_a['action'] == act,['phone_message_id', 'action', 'created']], how = 'left', left_on='id', right_on='phone_message_id')\n",
        "  df_m = df_m.rename(columns={'action': act.lower(), \"created_y\": act.lower() + \"_time\", \"created\": act.lower() + \"_time\"})\n",
        "  df_m = df_m.drop('phone_message_id', axis=1)\n",
        "\n",
        "## Turn them into booleans\n",
        "df_m.loc[df_m['click'] == 'CLICK', 'click'] = 1\n",
        "df_m.loc[df_m['donation'] == 'DONATION', 'donation'] = 1\n",
        "df_m['click'] = df_m['click'].fillna(0)\n",
        "df_m['donation'] = df_m['donation'].fillna(0)"
      ],
      "metadata": {
        "id": "JLCyxa_0sM5M"
      },
      "execution_count": 13,
      "outputs": []
    },
    {
      "cell_type": "code",
      "source": [
        "## Delete actions table bc I'm having runtime errors. \n",
        "del df_a"
      ],
      "metadata": {
        "id": "TUJzMcDPjpV5"
      },
      "execution_count": 14,
      "outputs": []
    },
    {
      "cell_type": "code",
      "source": [
        "##### Check some assumptions\n",
        "# Does the action table `created` column capture the timestamp of when the action was taken?\n",
        "print(\"Is the action table's 'created' timestamp always later than the 'sent_time' timestamp?\")\n",
        "print()\n",
        "print(\"CLICKS:\")\n",
        "dfc = df_m.loc[df_m.click == 1]\n",
        "print((dfc['sent_time'] < dfc['click_time']).value_counts())\n",
        "print(str(round(((dfc['sent_time'] < dfc['click_time']).value_counts()[0] / dfc.shape[0])*100,2)) + \"% of messages have a negative time delta between when they were sent and when the click action was taken.\")\n",
        "\n",
        "print()\n",
        "print(\"DONATIONS:\")\n",
        "dfd = df_m.loc[df_m.donation == 1]\n",
        "print((dfd['sent_time'] < dfd['donation_time']).value_counts())\n",
        "print(str(round(((dfd['sent_time'] < dfd['donation_time']).value_counts()[0] / dfd.shape[0])*100,2)) + \"% of messages have a negative time delta between when they were sent and when the click action was taken.\")"
      ],
      "metadata": {
        "colab": {
          "base_uri": "https://localhost:8080/"
        },
        "id": "B7S-R_9vtPD2",
        "outputId": "19215d38-1ac1-421d-a647-910fd49118ad"
      },
      "execution_count": 16,
      "outputs": [
        {
          "output_type": "stream",
          "name": "stdout",
          "text": [
            "Is the action table's 'created' timestamp always later than the 'sent_time' timestamp?\n",
            "\n",
            "CLICKS:\n",
            "True     484080\n",
            "False      3563\n",
            "dtype: int64\n",
            "0.73% of messages have a negative time delta between when they were sent and when the click action was taken.\n",
            "\n",
            "DONATIONS:\n",
            "True     192351\n",
            "False       166\n",
            "dtype: int64\n",
            "0.09% of messages have a negative time delta between when they were sent and when the click action was taken.\n"
          ]
        }
      ]
    },
    {
      "cell_type": "markdown",
      "source": [
        "#### Success by Campaign"
      ],
      "metadata": {
        "id": "qtwaPzqSMfAs"
      }
    },
    {
      "cell_type": "code",
      "source": [
        "## Identify the number and size of each message campaigns\n",
        "cmpns = pd.DataFrame(df_m.groupby(['broadcast_id', 'organization_id']).size()).reset_index()\n",
        "cmpns.columns = ['broadcast_id', 'organization_id', 'message_count']\n",
        "cmpns = cmpns.sort_values(by=['message_count'], ascending=False).reset_index().drop('index', axis=1)"
      ],
      "metadata": {
        "id": "m6xSBcyK61YX"
      },
      "execution_count": 17,
      "outputs": []
    },
    {
      "cell_type": "code",
      "source": [
        "### Plot the message send size\n",
        "plt.bar(cmpns.index,cmpns.message_count)\n",
        "plt.title('Volume of Messages Sent in Each Messaging Campaign')"
      ],
      "metadata": {
        "colab": {
          "base_uri": "https://localhost:8080/",
          "height": 298
        },
        "id": "bedI4u6NMSXT",
        "outputId": "52ce4c16-528c-4584-cbc6-d73bce2ced7b"
      },
      "execution_count": 18,
      "outputs": [
        {
          "output_type": "execute_result",
          "data": {
            "text/plain": [
              "Text(0.5, 1.0, 'Volume of Messages Sent in Each Messaging Campaign')"
            ]
          },
          "metadata": {},
          "execution_count": 18
        },
        {
          "output_type": "display_data",
          "data": {
            "text/plain": [
              "<Figure size 432x288 with 1 Axes>"
            ],
            "image/png": "[encoded data removed]"
          },
          "metadata": {
            "needs_background": "light"
          }
        }
      ]
    },
    {
      "cell_type": "code",
      "source": [
        "## Calculate click and donation rates for each campaign\n",
        "for col in ['click', 'donation']:\n",
        "  df_ = pd.DataFrame(df_m.groupby(['broadcast_id', 'organization_id']).apply(lambda x: (x[x[col] == 1].shape[0] / x.shape[0])) * 100).reset_index()\n",
        "  df_.columns = ['broadcast_id', 'organization_id', col + '_rate']\n",
        "  cmpns = pd.merge(cmpns, df_, how = 'left', left_on=['broadcast_id', 'organization_id'], right_on=['broadcast_id', 'organization_id'])"
      ],
      "metadata": {
        "id": "JNv9XKMfN9Vt"
      },
      "execution_count": 19,
      "outputs": []
    },
    {
      "cell_type": "code",
      "source": [
        "plt.plot(cmpns.message_count,cmpns.click_rate, 'bo')\n",
        "plt.title(\"Click Rate vs Message Count\")"
      ],
      "metadata": {
        "colab": {
          "base_uri": "https://localhost:8080/",
          "height": 298
        },
        "id": "dJFoAxJGQzLq",
        "outputId": "6caef902-bef7-4889-fced-f10288e9fc91"
      },
      "execution_count": 20,
      "outputs": [
        {
          "output_type": "execute_result",
          "data": {
            "text/plain": [
              "Text(0.5, 1.0, 'Click Rate vs Message Count')"
            ]
          },
          "metadata": {},
          "execution_count": 20
        },
        {
          "output_type": "display_data",
          "data": {
            "text/plain": [
              "<Figure size 432x288 with 1 Axes>"
            ],
            "image/png": "[encoded data removed]"
          },
          "metadata": {
            "needs_background": "light"
          }
        }
      ]
    },
    {
      "cell_type": "code",
      "source": [
        "plt.plot(cmpns.message_count,cmpns.donation_rate, 'bo')\n",
        "plt.title(\"Donation Rate vs Message Count\")"
      ],
      "metadata": {
        "colab": {
          "base_uri": "https://localhost:8080/",
          "height": 298
        },
        "id": "-4H9mjmASACc",
        "outputId": "4b97012e-e388-4eca-d409-eb0aaff0d2f7"
      },
      "execution_count": 21,
      "outputs": [
        {
          "output_type": "execute_result",
          "data": {
            "text/plain": [
              "Text(0.5, 1.0, 'Donation Rate vs Message Count')"
            ]
          },
          "metadata": {},
          "execution_count": 21
        },
        {
          "output_type": "display_data",
          "data": {
            "text/plain": [
              "<Figure size 432x288 with 1 Axes>"
            ],
            "image/png": "[encoded data removed]"
          },
          "metadata": {
            "needs_background": "light"
          }
        }
      ]
    },
    {
      "cell_type": "markdown",
      "source": [
        "## Create Features \n",
        "\n",
        "Outcomes:\n",
        "*   Click\n",
        "*   Donation\n",
        "\n",
        "Inputs: \n",
        "*   Time of day (int): hour of the day extracted from `sent_time`\n",
        "*   Day of week (boolean): Day of week dummy variables extracted from `sent_time` \n",
        "*   Message length (int): number of words in each message\n",
        "\n",
        "\n",
        "(Additional inputs too consider if there was more time):\n",
        "* *   Message Type (boolean): Dummy variable created from `message_type` column  \n",
        "* Organization (boolean): Dummy variables created from `organization_id` column\n",
        "*   Broadcast (boolean): Dummy variables created from `broadcast_id` column\n",
        "*   Click time since send (timedelta): timedelta from `sent_time` to `click_time`\n",
        "*   Donation time since send (timedelta): timedelta from `sent_time` to `donation_time`\n",
        "*   Personalization (boolean): Dummy variable created from `text` column if there's a first name in the text of the message.  \n"
      ],
      "metadata": {
        "id": "eqe8NQSVSMYe"
      }
    },
    {
      "cell_type": "code",
      "source": [
        "## Only keep necessary columns\n",
        "df = df_m[['click', 'donation', 'sent_time', 'organization_id', 'broadcast_id', 'message_type', 'click_time', 'donation_time', 'text']]"
      ],
      "metadata": {
        "id": "2SyoBxwVSQID"
      },
      "execution_count": 22,
      "outputs": []
    },
    {
      "cell_type": "code",
      "source": [
        "## Extract hour of day from `sent_time`\n",
        "df['sent_hour_of_day'] = [i.hour for i in df['sent_time']]\n",
        "\n",
        "# Plot histogram to see values\n",
        "df.sent_hour_of_day.hist()\n",
        "plt.title(\"Histogram of Hour the Message was Sent\")"
      ],
      "metadata": {
        "id": "_JoCBWCwUrpK",
        "colab": {
          "base_uri": "https://localhost:8080/",
          "height": 298
        },
        "outputId": "976163fd-028d-4e5c-fbfa-1185d9b972a3"
      },
      "execution_count": 66,
      "outputs": [
        {
          "output_type": "execute_result",
          "data": {
            "text/plain": [
              "Text(0.5, 1.0, 'Histogram of Hour the Message was Sent')"
            ]
          },
          "metadata": {},
          "execution_count": 66
        },
        {
          "output_type": "display_data",
          "data": {
            "text/plain": [
              "<Figure size 432x288 with 1 Axes>"
            ],
            "image/png": "[encoded data removed]"
          },
          "metadata": {
            "needs_background": "light"
          }
        }
      ]
    },
    {
      "cell_type": "code",
      "source": [
        "## Create message type dummy variables\n",
        "df = df.join(df['message_type'].astype(str).str.get_dummies())"
      ],
      "metadata": {
        "id": "lf8pKFyeYSVE"
      },
      "execution_count": 24,
      "outputs": []
    },
    {
      "cell_type": "code",
      "source": [
        "## Create day of week dummy variables\n",
        "df['dayofweek'] = [\"dow_\" + str(i.dayofweek) for i in df['sent_time']]\n",
        "#df = df.join(df['dayofweek'].astype(str).str.get_dummies())\n",
        "\n",
        "## Plot values\n",
        "df['dayofweek'].hist()\n",
        "plt.title(\"Histogram of Day of the Week the Message was Sent\")"
      ],
      "metadata": {
        "colab": {
          "base_uri": "https://localhost:8080/",
          "height": 299
        },
        "id": "wKxI2so6lWZC",
        "outputId": "d0af1860-8345-4001-9301-7d23ec630a7d"
      },
      "execution_count": 67,
      "outputs": [
        {
          "output_type": "execute_result",
          "data": {
            "text/plain": [
              "Text(0.5, 1.0, 'Histogram of Day of the Week the Message was Sent')"
            ]
          },
          "metadata": {},
          "execution_count": 67
        },
        {
          "output_type": "display_data",
          "data": {
            "text/plain": [
              "<Figure size 432x288 with 1 Axes>"
            ],
            "image/png": "[encoded data removed]"
          },
          "metadata": {
            "needs_background": "light"
          }
        }
      ]
    },
    {
      "cell_type": "code",
      "source": [
        "## Create message length variable\n",
        "df['message_legth'] = [len(i.split(' ')) for i in df['text']]\n",
        "\n",
        "## Plot values\n",
        "df['message_legth'].hist()\n",
        "plt.title(\"Histogram of Length of the Messages\")"
      ],
      "metadata": {
        "colab": {
          "base_uri": "https://localhost:8080/",
          "height": 298
        },
        "id": "ByteFUXdoK-a",
        "outputId": "2d509b3a-83d9-4110-b7cc-24456d903f99"
      },
      "execution_count": 68,
      "outputs": [
        {
          "output_type": "execute_result",
          "data": {
            "text/plain": [
              "Text(0.5, 1.0, 'Histogram of Length of the Messages')"
            ]
          },
          "metadata": {},
          "execution_count": 68
        },
        {
          "output_type": "display_data",
          "data": {
            "text/plain": [
              "<Figure size 432x288 with 1 Axes>"
            ],
            "image/png": "[encoded data removed]"
          },
          "metadata": {
            "needs_background": "light"
          }
        }
      ]
    },
    {
      "cell_type": "code",
      "source": [
        "# ## Create org_id dummy variables\n",
        "# df['organization_id'] = ['org_' + str(i) for i in df['organization_id']]\n",
        "# df = df.join(df['organization_id'].astype(str).str.get_dummies())"
      ],
      "metadata": {
        "id": "Rctf--5cU0fT"
      },
      "execution_count": 26,
      "outputs": []
    },
    {
      "cell_type": "code",
      "source": [
        "## Create broadcast_id dummy variables\n",
        "# df['broadcast_id'] = ['msg_' + str(i) for i in df['broadcast_id']]\n",
        "# df = df.join(df['broadcast_id'].astype(str).str.get_dummies())\n",
        "\n",
        "#### I ran into runtime issues (collab is failing me...) so I'll have to add this as something to try with more time."
      ],
      "metadata": {
        "id": "VNPCFq2sZGLq"
      },
      "execution_count": 27,
      "outputs": []
    },
    {
      "cell_type": "markdown",
      "source": [
        "\n",
        "### Logistic Regression\n",
        "\n",
        "$$\n",
        "click = log(b_0 + b_1 * \\text{sent hour of day} + b_2 * \\text{message length} + b_3 * \\text{Tuesday} + b_4 * \\text{Wednesday} + b_5 * \\text{Thursday} + b_6 * \\text{Friday} + b_7 * \\text{Saturday} + b_8 * \\text{Sunday})\n",
        "$$\n",
        "\n",
        "*Defaults*:\n",
        "* Day of week = Monday \n",
        "* Message type = SMS\n"
      ],
      "metadata": {
        "id": "oKGt4RJlkNcQ"
      }
    },
    {
      "cell_type": "code",
      "source": [
        "from sklearn.linear_model import LogisticRegression\n",
        "from sklearn.metrics import classification_report, confusion_matrix"
      ],
      "metadata": {
        "id": "ouweQggyqIr5"
      },
      "execution_count": 48,
      "outputs": []
    },
    {
      "cell_type": "code",
      "source": [
        "### Set x variables\n",
        "x_vars = ['sent_hour_of_day', 'message_legth', 'dow_1', 'dow_2', 'dow_3', 'dow_4', 'dow_5',\n",
        "       'dow_6']"
      ],
      "metadata": {
        "id": "-WiRg6ykugQK"
      },
      "execution_count": 70,
      "outputs": []
    },
    {
      "cell_type": "code",
      "source": [
        "#### Build Models\n",
        "\n",
        "## Define x and y\n",
        "for col in ['click', 'donation']:\n",
        "  print(col)\n",
        "  x = df[x_vars]\n",
        "  y = df[col]\n",
        "\n",
        "  ## Run logistic regression model\n",
        "  model = LogisticRegression(solver='liblinear', random_state=0)\n",
        "  model.fit(x,y)\n",
        "\n",
        "  print(\"Model results for message clicks: \")\n",
        "  print(model.intercept_)\n",
        "  print(model.coef_)\n",
        "\n",
        "  print()\n",
        "  print(confusion_matrix(y, model.predict(x)))\n",
        "  print()\n",
        "  print()"
      ],
      "metadata": {
        "colab": {
          "base_uri": "https://localhost:8080/"
        },
        "id": "u6XTau3Cj5JG",
        "outputId": "af7dce4b-adb4-4597-bfa9-215014c638e2"
      },
      "execution_count": 71,
      "outputs": [
        {
          "output_type": "stream",
          "name": "stdout",
          "text": [
            "click\n",
            "Model results for message clicks: \n",
            "[-2.92393691]\n",
            "[[ 0.13178312  0.00444924 -1.70694692 -1.90280251 -1.51378764 -2.09475172\n",
            "  -1.34786608 -0.92161185]]\n",
            "\n",
            "[[2124718   14436]\n",
            " [ 483830    3813]]\n",
            "\n",
            "\n",
            "donation\n",
            "Model results for message clicks: \n",
            "[-3.94662322]\n",
            "[[ 0.11930195  0.00322612 -2.18748217 -1.33635453 -1.04677498 -1.42301655\n",
            "  -0.83378547 -0.40354995]]\n",
            "\n",
            "[[2434280       0]\n",
            " [ 192517       0]]\n",
            "\n",
            "\n"
          ]
        }
      ]
    }
  ]
}