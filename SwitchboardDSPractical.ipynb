{
  "nbformat": 4,
  "nbformat_minor": 0,
  "metadata": {
    "colab": {
      "provenance": [],
      "mount_file_id": "1sSBr0RCP0Mekp3XkXdkV7VPDnhTHJYAu",
      "authorship_tag": "ABX9TyM0N04Pln29nwgQQqfTuv4j",
      "include_colab_link": true
    },
    "kernelspec": {
      "name": "python3",
      "display_name": "Python 3"
    },
    "language_info": {
      "name": "python"
    },
    "accelerator": "GPU",
    "gpuClass": "standard"
  },
  "cells": [
    {
      "cell_type": "markdown",
      "metadata": {
        "id": "view-in-github",
        "colab_type": "text"
      },
      "source": [
        "<a href=\"https://colab.research.google.com/github/vheastman/ChallengerOringFailures/blob/master/SwitchboardDSPractical.ipynb\" target=\"_parent\"><img src=\"https://colab.research.google.com/assets/colab-badge.svg\" alt=\"Open In Colab\"/></a>"
      ]
    },
    {
      "cell_type": "markdown",
      "source": [
        "## Switchboard Data Science Practical\n",
        "\n",
        "Date: February 5th, 2023\n",
        "\n",
        "**Prompt 1**: Based on the provided data, what aspects of message sends seem most relevant to engagement? If you were going to provide direct guidance to customers running messaging programs, what would you tell them (if anything)?\n",
        "\n",
        "**Prompt 2**: Based on your exploration of this data set, what other questions do you have? What would you want to collect more data on (or spend more time with this data) to understand better, and/or what questions would you have for customers, our customer-facing employees, or other folks on the team to help us help our customers run better programs?\n",
        "\n",
        "Assumptions:\n",
        "- Based on the data dictionary, I'm assuming the [broadcast_id, organization_id] combination can be used to identify distinct messaging campaigns.\n",
        "- The `created` column in the actions table corresponds to when the action was taken and can be used to compare to the `sent_time` column in the messages table.\n",
        "\n",
        "Ideas:\n",
        "- Message type: sms vs mms\n",
        "- Send time\n",
        "- Message length\n",
        "- How long after send is the action taken?\n",
        "- Geography (using area codes)\n",
        "\n",
        "\n",
        "If I had more time:\n",
        "- Message content \n",
        "- Clear CTA\n",
        "- Personalization\n",
        "- [not in this data] Audience optimization\n"
      ],
      "metadata": {
        "id": "98DbBQG0XTwj"
      }
    },
    {
      "cell_type": "code",
      "execution_count": null,
      "metadata": {
        "id": "0G9zeizPVnHF"
      },
      "outputs": [],
      "source": [
        "import pandas as pd\n",
        "import numpy as np\n",
        "import matplotlib.pyplot as plt"
      ]
    },
    {
      "cell_type": "code",
      "source": [
        "## Connect to data in google drive\n",
        "\n",
        "# Code to read csv file into Colaboratory:\n",
        "#!pip install -U -q PyDrive\n",
        "from pydrive.auth import GoogleAuth\n",
        "from pydrive.drive import GoogleDrive\n",
        "from google.colab import auth\n",
        "from oauth2client.client import GoogleCredentials\n",
        "# Authenticate and create the PyDrive client.\n",
        "auth.authenticate_user()\n",
        "gauth = GoogleAuth()\n",
        "gauth.credentials = GoogleCredentials.get_application_default()\n",
        "drive = GoogleDrive(gauth)"
      ],
      "metadata": {
        "id": "kE4FcLVCcDzG"
      },
      "execution_count": null,
      "outputs": []
    },
    {
      "cell_type": "code",
      "source": [
        "import warnings\n",
        "warnings.filterwarnings(\"ignore\")"
      ],
      "metadata": {
        "id": "nRPwGUxQVZvQ"
      },
      "execution_count": null,
      "outputs": []
    },
    {
      "cell_type": "code",
      "source": [
        "## Read in csvs\n",
        "#https://drive.google.com/file/d/1FOguMSbGk26jlzkc-RMZHCM_4sl0t51F/view?usp=share_link\n",
        "#https://drive.google.com/file/d/12bgmU-bOCu9xu_TmhA0Pzfk6L4mCRaba/view?usp=share_link\n",
        "\n",
        "downloaded = drive.CreateFile({'id':'1FOguMSbGk26jlzkc-RMZHCM_4sl0t51F'}) \n",
        "downloaded.GetContentFile('actions.csv')  \n",
        "df_a = pd.read_csv('actions.csv')\n",
        "\n",
        "downloaded = drive.CreateFile({'id':'12bgmU-bOCu9xu_TmhA0Pzfk6L4mCRaba'}) \n",
        "downloaded.GetContentFile('messages.csv')  \n",
        "df_m = pd.read_csv('messages.csv')"
      ],
      "metadata": {
        "id": "0jt2hyX5cL2E"
      },
      "execution_count": null,
      "outputs": []
    },
    {
      "cell_type": "code",
      "source": [
        "## Make some adjustments to the dfs\n",
        "\n",
        "# Convert appropriate columns to timestamps:\n",
        "for col in ['created', 'modified']:\n",
        "  df_m[col] = pd.to_datetime(df_m[col])\n",
        "  df_a[col] = pd.to_datetime(df_a[col])\n",
        "\n",
        "df_m['sent_time'] = pd.to_datetime(df_m['sent_time'])"
      ],
      "metadata": {
        "id": "Dwf8ma-6ybHq"
      },
      "execution_count": null,
      "outputs": []
    },
    {
      "cell_type": "code",
      "source": [
        "## What size is the data?\n",
        "print(df_a.shape)\n",
        "print(df_m.shape)"
      ],
      "metadata": {
        "colab": {
          "base_uri": "https://localhost:8080/"
        },
        "id": "-Kw0pbt2f8s9",
        "outputId": "61b9d595-d4b2-48d4-ea49-654b1e541b8b"
      },
      "execution_count": null,
      "outputs": [
        {
          "output_type": "stream",
          "name": "stdout",
          "text": [
            "(733650, 11)\n",
            "(2783096, 18)\n"
          ]
        }
      ]
    },
    {
      "cell_type": "code",
      "source": [
        "####### Data Validation\n",
        "## Which columns are empty?\n",
        "print(\"Actions Table:\")\n",
        "for col in df_a.columns:\n",
        "  print(col + \": \" + str(df_a[col].isnull().all(axis=0)))\n",
        "\n",
        "print()\n",
        "print(\"Messages Table:\")\n",
        "for col in df_m.columns:\n",
        "  print(col + \": \" + str(df_m[col].isnull().all(axis=0)))\n"
      ],
      "metadata": {
        "colab": {
          "base_uri": "https://localhost:8080/"
        },
        "id": "htI5GodLEdjY",
        "outputId": "527c016b-8934-418c-d44f-e76a98a2d251"
      },
      "execution_count": null,
      "outputs": [
        {
          "output_type": "stream",
          "name": "stdout",
          "text": [
            "Actions Table:\n",
            "id: False\n",
            "created: False\n",
            "modified: False\n",
            "action: False\n",
            "metadata: True\n",
            "referrer: True\n",
            "user_agent: False\n",
            "query_parameters: True\n",
            "ip: False\n",
            "phone_message_id: False\n",
            "organization_id: False\n",
            "\n",
            "Messages Table:\n",
            "id: False\n",
            "created: False\n",
            "modified: False\n",
            "text: False\n",
            "is_from_contact: False\n",
            "send_status: False\n",
            "broadcast_id: False\n",
            "organization_id: False\n",
            "phone_contact_id: False\n",
            "provider: False\n",
            "provider_message_id: False\n",
            "provider_messaging_service_sid: False\n",
            "error_code: True\n",
            "error_message: True\n",
            "message_type: False\n",
            "sent_time: False\n",
            "from_number: True\n",
            "to_number: False\n"
          ]
        }
      ]
    },
    {
      "cell_type": "code",
      "source": [
        "## Drop empty columns to help with memory issues:\n",
        "for col in df_m.columns:\n",
        "  if df_m[col].isnull().all(axis=0):\n",
        "    df_m = df_m.drop(col, axis=1)"
      ],
      "metadata": {
        "id": "MwM3piNnHSaC"
      },
      "execution_count": null,
      "outputs": []
    },
    {
      "cell_type": "code",
      "source": [
        "# ## Look at the data\n",
        "# print(\"Actions Table:\")\n",
        "# print(df_a.head())\n",
        "\n",
        "# print(\"Messages Table:\")\n",
        "# print(df_m.head())"
      ],
      "metadata": {
        "id": "1cTfS2yVgp02"
      },
      "execution_count": null,
      "outputs": []
    },
    {
      "cell_type": "code",
      "source": [
        "### Data Validation\n",
        "## Question: Do all messages with a 'Donation' action also have a 'Click' action?\n",
        "print(df_a.action.value_counts())\n",
        "print()\n",
        "print(\"Do all messages with a 'Donation' action also have a 'Click' action?\")\n",
        "set(df_a.loc[df_a['action'] == 'DONATION','phone_message_id']).issubset(set(df_a.loc[df_a['action'] == 'CLICK','phone_message_id']))\n",
        "\n",
        "## Answer: Yes! One message can have both action types"
      ],
      "metadata": {
        "colab": {
          "base_uri": "https://localhost:8080/"
        },
        "id": "7D85cZ_U_m-f",
        "outputId": "9e46a742-9e59-492a-8a13-497f272a0bb4"
      },
      "execution_count": null,
      "outputs": [
        {
          "output_type": "stream",
          "name": "stdout",
          "text": [
            "CLICK       520344\n",
            "DONATION    213306\n",
            "Name: action, dtype: int64\n",
            "\n",
            "Do all messages with a 'Donation' action also have a 'Click' action?\n"
          ]
        },
        {
          "output_type": "execute_result",
          "data": {
            "text/plain": [
              "True"
            ]
          },
          "metadata": {},
          "execution_count": 12
        }
      ]
    },
    {
      "cell_type": "code",
      "source": [
        "## Identify the number and size of each message campaigns\n",
        "cmpns = pd.DataFrame(df_m.groupby(['broadcast_id', 'organization_id']).size()).reset_index()\n",
        "cmpns.columns = ['broadcast_id', 'organization_id', 'message_count']\n",
        "cmpns = cmpns.sort_values(by=['message_count'], ascending=False).reset_index().drop('index', axis=1)"
      ],
      "metadata": {
        "id": "SKB7wingooDU"
      },
      "execution_count": null,
      "outputs": []
    },
    {
      "cell_type": "code",
      "source": [
        "### Plot the message send size\n",
        "plt.bar(cmpns.index,cmpns.message_count)\n",
        "plt.title('Volume of Messages Sent in Each Messaging Campaign')"
      ],
      "metadata": {
        "colab": {
          "base_uri": "https://localhost:8080/",
          "height": 298
        },
        "id": "1x4qBzil0XI1",
        "outputId": "402598b7-e37c-479a-ce31-f60343295d74"
      },
      "execution_count": null,
      "outputs": [
        {
          "output_type": "execute_result",
          "data": {
            "text/plain": [
              "Text(0.5, 1.0, 'Volume of Messages Sent in Each Messaging Campaign')"
            ]
          },
          "metadata": {},
          "execution_count": 14
        },
        {
          "output_type": "display_data",
          "data": {
            "text/plain": [
              "<Figure size 432x288 with 1 Axes>"
            ],
            "image/png": "[encoded data removed]"
          },
          "metadata": {
            "needs_background": "light"
          }
        }
      ]
    },
    {
      "cell_type": "code",
      "source": [
        "## Merge tables to get actions with raw message data\n",
        "for act in ['CLICK', 'DONATION']:\n",
        "  df_m = pd.merge(df_m, df_a.loc[df_a['action'] == act,['phone_message_id', 'action', 'created']], how = 'left', left_on='id', right_on='phone_message_id')\n",
        "  df_m = df_m.rename(columns={'action': act.lower(), \"created_y\": act.lower() + \"_time\", \"created\": act.lower() + \"_time\"})\n",
        "  df_m = df_m.drop('phone_message_id', axis=1)\n",
        "\n",
        "## Turn them into booleans\n",
        "df_m.loc[df_m['click'] == 'CLICK', 'click'] = 1\n",
        "df_m.loc[df_m['donation'] == 'DONATION', 'donation'] = 1\n",
        "df_m['click'] = df_m['click'].fillna(0)\n",
        "df_m['donation'] = df_m['donation'].fillna(0)"
      ],
      "metadata": {
        "id": "JLCyxa_0sM5M"
      },
      "execution_count": null,
      "outputs": []
    },
    {
      "cell_type": "code",
      "source": [
        "df_m.head()"
      ],
      "metadata": {
        "colab": {
          "base_uri": "https://localhost:8080/",
          "height": 791
        },
        "id": "puIZbYSYO5jm",
        "outputId": "f7251e2f-2b75-4297-985c-86f1f029f35f"
      },
      "execution_count": null,
      "outputs": [
        {
          "output_type": "execute_result",
          "data": {
            "text/plain": [
              "   id                 created_x                  modified  \\\n",
              "0   1 2022-10-30 10:38:00-04:00 2022-10-30 10:38:00-04:00   \n",
              "1   2 2022-10-30 10:38:00-04:00 2022-10-30 10:38:00-04:00   \n",
              "2   3 2022-10-30 10:38:00-04:00 2022-10-30 10:38:00-04:00   \n",
              "3   4 2022-10-30 10:38:00-04:00 2022-10-30 10:38:00-04:00   \n",
              "4   5 2022-10-30 10:38:00-04:00 2022-10-30 10:38:00-04:00   \n",
              "\n",
              "                                                text  is_from_contact  \\\n",
              "0  Hi, it's Battery PAC Nicholas, we've been on t...            False   \n",
              "1  Hi, it's Battery PAC Russell, we've been on th...            False   \n",
              "2  Hi, it's Battery PAC Zachary, we've been on th...            False   \n",
              "3  Hi, it's Battery PAC Brittany, we've been on t...            False   \n",
              "4  Hi, it's Battery PAC Elijah, we've been on thi...            False   \n",
              "\n",
              "  send_status  broadcast_id  organization_id  phone_contact_id provider  \\\n",
              "0   delivered            42                1                 1       BW   \n",
              "1   delivered            42                1                 2       BW   \n",
              "2   delivered            42                1                 3       BW   \n",
              "3   delivered            42                1                 4       BW   \n",
              "4   delivered            42                1                 5       BW   \n",
              "\n",
              "                    provider_message_id  provider_messaging_service_sid  \\\n",
              "0  22a0c4dd-919c-4946-a933-224bfa2bcca3                             117   \n",
              "1  a3b25eae-1083-4555-b565-242272842159                             117   \n",
              "2  6ffd174a-0ac2-4fa0-9afc-2bdeeb7ed113                             117   \n",
              "3  6f2560f9-e17d-4ffd-9645-a97c9d5136be                             117   \n",
              "4  69ba1e19-8928-4a54-b09e-d329e9acaa5d                             117   \n",
              "\n",
              "  message_type                 sent_time     to_number  click  \\\n",
              "0          sms 2022-10-30 10:46:00-04:00  +16074569472      1   \n",
              "1          sms 2022-10-30 10:42:00-04:00  +17793633436      1   \n",
              "2          sms 2022-10-30 10:41:00-04:00  446-573-6337      0   \n",
              "3          sms 2022-10-30 10:44:00-04:00  535-645-4046      0   \n",
              "4          sms 2022-10-30 10:39:00-04:00  +14069592536      0   \n",
              "\n",
              "                 click_time  donation             donation_time  \n",
              "0 2022-10-30 11:05:00-04:00         1 2022-10-30 11:09:00-04:00  \n",
              "1 2022-10-30 11:15:00-04:00         1 2022-10-30 11:21:00-04:00  \n",
              "2                       NaT         0                       NaT  \n",
              "3                       NaT         0                       NaT  \n",
              "4                       NaT         0                       NaT  "
            ],
            "text/html": [
              "\n",
              "  <div id=\"df-e29b7599-ed4d-48eb-953d-72f3b71b446c\">\n",
              "    <div class=\"colab-df-container\">\n",
              "      <div>\n",
              "<style scoped>\n",
              "    .dataframe tbody tr th:only-of-type {\n",
              "        vertical-align: middle;\n",
              "    }\n",
              "\n",
              "    .dataframe tbody tr th {\n",
              "        vertical-align: top;\n",
              "    }\n",
              "\n",
              "    .dataframe thead th {\n",
              "        text-align: right;\n",
              "    }\n",
              "</style>\n",
              "<table border=\"1\" class=\"dataframe\">\n",
              "  <thead>\n",
              "    <tr style=\"text-align: right;\">\n",
              "      <th></th>\n",
              "      <th>id</th>\n",
              "      <th>created_x</th>\n",
              "      <th>modified</th>\n",
              "      <th>text</th>\n",
              "      <th>is_from_contact</th>\n",
              "      <th>send_status</th>\n",
              "      <th>broadcast_id</th>\n",
              "      <th>organization_id</th>\n",
              "      <th>phone_contact_id</th>\n",
              "      <th>provider</th>\n",
              "      <th>provider_message_id</th>\n",
              "      <th>provider_messaging_service_sid</th>\n",
              "      <th>message_type</th>\n",
              "      <th>sent_time</th>\n",
              "      <th>to_number</th>\n",
              "      <th>click</th>\n",
              "      <th>click_time</th>\n",
              "      <th>donation</th>\n",
              "      <th>donation_time</th>\n",
              "    </tr>\n",
              "  </thead>\n",
              "  <tbody>\n",
              "    <tr>\n",
              "      <th>0</th>\n",
              "      <td>1</td>\n",
              "      <td>2022-10-30 10:38:00-04:00</td>\n",
              "      <td>2022-10-30 10:38:00-04:00</td>\n",
              "      <td>Hi, it's Battery PAC Nicholas, we've been on t...</td>\n",
              "      <td>False</td>\n",
              "      <td>delivered</td>\n",
              "      <td>42</td>\n",
              "      <td>1</td>\n",
              "      <td>1</td>\n",
              "      <td>BW</td>\n",
              "      <td>22a0c4dd-919c-4946-a933-224bfa2bcca3</td>\n",
              "      <td>117</td>\n",
              "      <td>sms</td>\n",
              "      <td>2022-10-30 10:46:00-04:00</td>\n",
              "      <td>+16074569472</td>\n",
              "      <td>1</td>\n",
              "      <td>2022-10-30 11:05:00-04:00</td>\n",
              "      <td>1</td>\n",
              "      <td>2022-10-30 11:09:00-04:00</td>\n",
              "    </tr>\n",
              "    <tr>\n",
              "      <th>1</th>\n",
              "      <td>2</td>\n",
              "      <td>2022-10-30 10:38:00-04:00</td>\n",
              "      <td>2022-10-30 10:38:00-04:00</td>\n",
              "      <td>Hi, it's Battery PAC Russell, we've been on th...</td>\n",
              "      <td>False</td>\n",
              "      <td>delivered</td>\n",
              "      <td>42</td>\n",
              "      <td>1</td>\n",
              "      <td>2</td>\n",
              "      <td>BW</td>\n",
              "      <td>a3b25eae-1083-4555-b565-242272842159</td>\n",
              "      <td>117</td>\n",
              "      <td>sms</td>\n",
              "      <td>2022-10-30 10:42:00-04:00</td>\n",
              "      <td>+17793633436</td>\n",
              "      <td>1</td>\n",
              "      <td>2022-10-30 11:15:00-04:00</td>\n",
              "      <td>1</td>\n",
              "      <td>2022-10-30 11:21:00-04:00</td>\n",
              "    </tr>\n",
              "    <tr>\n",
              "      <th>2</th>\n",
              "      <td>3</td>\n",
              "      <td>2022-10-30 10:38:00-04:00</td>\n",
              "      <td>2022-10-30 10:38:00-04:00</td>\n",
              "      <td>Hi, it's Battery PAC Zachary, we've been on th...</td>\n",
              "      <td>False</td>\n",
              "      <td>delivered</td>\n",
              "      <td>42</td>\n",
              "      <td>1</td>\n",
              "      <td>3</td>\n",
              "      <td>BW</td>\n",
              "      <td>6ffd174a-0ac2-4fa0-9afc-2bdeeb7ed113</td>\n",
              "      <td>117</td>\n",
              "      <td>sms</td>\n",
              "      <td>2022-10-30 10:41:00-04:00</td>\n",
              "      <td>446-573-6337</td>\n",
              "      <td>0</td>\n",
              "      <td>NaT</td>\n",
              "      <td>0</td>\n",
              "      <td>NaT</td>\n",
              "    </tr>\n",
              "    <tr>\n",
              "      <th>3</th>\n",
              "      <td>4</td>\n",
              "      <td>2022-10-30 10:38:00-04:00</td>\n",
              "      <td>2022-10-30 10:38:00-04:00</td>\n",
              "      <td>Hi, it's Battery PAC Brittany, we've been on t...</td>\n",
              "      <td>False</td>\n",
              "      <td>delivered</td>\n",
              "      <td>42</td>\n",
              "      <td>1</td>\n",
              "      <td>4</td>\n",
              "      <td>BW</td>\n",
              "      <td>6f2560f9-e17d-4ffd-9645-a97c9d5136be</td>\n",
              "      <td>117</td>\n",
              "      <td>sms</td>\n",
              "      <td>2022-10-30 10:44:00-04:00</td>\n",
              "      <td>535-645-4046</td>\n",
              "      <td>0</td>\n",
              "      <td>NaT</td>\n",
              "      <td>0</td>\n",
              "      <td>NaT</td>\n",
              "    </tr>\n",
              "    <tr>\n",
              "      <th>4</th>\n",
              "      <td>5</td>\n",
              "      <td>2022-10-30 10:38:00-04:00</td>\n",
              "      <td>2022-10-30 10:38:00-04:00</td>\n",
              "      <td>Hi, it's Battery PAC Elijah, we've been on thi...</td>\n",
              "      <td>False</td>\n",
              "      <td>delivered</td>\n",
              "      <td>42</td>\n",
              "      <td>1</td>\n",
              "      <td>5</td>\n",
              "      <td>BW</td>\n",
              "      <td>69ba1e19-8928-4a54-b09e-d329e9acaa5d</td>\n",
              "      <td>117</td>\n",
              "      <td>sms</td>\n",
              "      <td>2022-10-30 10:39:00-04:00</td>\n",
              "      <td>+14069592536</td>\n",
              "      <td>0</td>\n",
              "      <td>NaT</td>\n",
              "      <td>0</td>\n",
              "      <td>NaT</td>\n",
              "    </tr>\n",
              "  </tbody>\n",
              "</table>\n",
              "</div>\n",
              "      <button class=\"colab-df-convert\" onclick=\"convertToInteractive('df-e29b7599-ed4d-48eb-953d-72f3b71b446c')\"\n",
              "              title=\"Convert this dataframe to an interactive table.\"\n",
              "              style=\"display:none;\">\n",
              "        \n",
              "  <svg xmlns=\"http://www.w3.org/2000/svg\" height=\"24px\"viewBox=\"0 0 24 24\"\n",
              "       width=\"24px\">\n",
              "    <path d=\"M0 0h24v24H0V0z\" fill=\"none\"/>\n",
              "    <path d=\"M18.56 5.44l.94 2.06.94-2.06 2.06-.94-2.06-.94-.94-2.06-.94 2.06-2.06.94zm-11 1L8.5 8.5l.94-2.06 2.06-.94-2.06-.94L8.5 2.5l-.94 2.06-2.06.94zm10 10l.94 2.06.94-2.06 2.06-.94-2.06-.94-.94-2.06-.94 2.06-2.06.94z\"/><path d=\"M17.41 7.96l-1.37-1.37c-.4-.4-.92-.59-1.43-.59-.52 0-1.04.2-1.43.59L10.3 9.45l-7.72 7.72c-.78.78-.78 2.05 0 2.83L4 21.41c.39.39.9.59 1.41.59.51 0 1.02-.2 1.41-.59l7.78-7.78 2.81-2.81c.8-.78.8-2.07 0-2.86zM5.41 20L4 18.59l7.72-7.72 1.47 1.35L5.41 20z\"/>\n",
              "  </svg>\n",
              "      </button>\n",
              "      \n",
              "  <style>\n",
              "    .colab-df-container {\n",
              "      display:flex;\n",
              "      flex-wrap:wrap;\n",
              "      gap: 12px;\n",
              "    }\n",
              "\n",
              "    .colab-df-convert {\n",
              "      background-color: #E8F0FE;\n",
              "      border: none;\n",
              "      border-radius: 50%;\n",
              "      cursor: pointer;\n",
              "      display: none;\n",
              "      fill: #1967D2;\n",
              "      height: 32px;\n",
              "      padding: 0 0 0 0;\n",
              "      width: 32px;\n",
              "    }\n",
              "\n",
              "    .colab-df-convert:hover {\n",
              "      background-color: #E2EBFA;\n",
              "      box-shadow: 0px 1px 2px rgba(60, 64, 67, 0.3), 0px 1px 3px 1px rgba(60, 64, 67, 0.15);\n",
              "      fill: #174EA6;\n",
              "    }\n",
              "\n",
              "    [theme=dark] .colab-df-convert {\n",
              "      background-color: #3B4455;\n",
              "      fill: #D2E3FC;\n",
              "    }\n",
              "\n",
              "    [theme=dark] .colab-df-convert:hover {\n",
              "      background-color: #434B5C;\n",
              "      box-shadow: 0px 1px 3px 1px rgba(0, 0, 0, 0.15);\n",
              "      filter: drop-shadow(0px 1px 2px rgba(0, 0, 0, 0.3));\n",
              "      fill: #FFFFFF;\n",
              "    }\n",
              "  </style>\n",
              "\n",
              "      <script>\n",
              "        const buttonEl =\n",
              "          document.querySelector('#df-e29b7599-ed4d-48eb-953d-72f3b71b446c button.colab-df-convert');\n",
              "        buttonEl.style.display =\n",
              "          google.colab.kernel.accessAllowed ? 'block' : 'none';\n",
              "\n",
              "        async function convertToInteractive(key) {\n",
              "          const element = document.querySelector('#df-e29b7599-ed4d-48eb-953d-72f3b71b446c');\n",
              "          const dataTable =\n",
              "            await google.colab.kernel.invokeFunction('convertToInteractive',\n",
              "                                                     [key], {});\n",
              "          if (!dataTable) return;\n",
              "\n",
              "          const docLinkHtml = 'Like what you see? Visit the ' +\n",
              "            '<a target=\"_blank\" href=https://colab.research.google.com/notebooks/data_table.ipynb>data table notebook</a>'\n",
              "            + ' to learn more about interactive tables.';\n",
              "          element.innerHTML = '';\n",
              "          dataTable['output_type'] = 'display_data';\n",
              "          await google.colab.output.renderOutput(dataTable, element);\n",
              "          const docLink = document.createElement('div');\n",
              "          docLink.innerHTML = docLinkHtml;\n",
              "          element.appendChild(docLink);\n",
              "        }\n",
              "      </script>\n",
              "    </div>\n",
              "  </div>\n",
              "  "
            ]
          },
          "metadata": {},
          "execution_count": 16
        }
      ]
    },
    {
      "cell_type": "code",
      "source": [
        "## Check some assumptions\n",
        "# Does the action table `created` column capture the timestamp of when the action was taken?\n",
        "print(\"Is the action table's 'created' timestamp always later than the 'sent_time' timestamp?\")\n",
        "print()\n",
        "print(\"CLICKS:\")\n",
        "dfc = df_m.loc[df_m.click == 1]\n",
        "print((dfc['sent_time'] < dfc['click_time']).value_counts())\n",
        "print(str(round(((dfc['sent_time'] < dfc['click_time']).value_counts()[0] / dfc.shape[0])*100,2)) + \"% of messages have a negative time delta between when they were sent and when the click action was taken.\")\n",
        "\n",
        "print()\n",
        "print(\"DONATIONS:\")\n",
        "dfd = df_m.loc[df_m.donation == 1]\n",
        "print((dfd['sent_time'] < dfd['donation_time']).value_counts())\n",
        "print(str(round(((dfd['sent_time'] < dfd['donation_time']).value_counts()[0] / dfd.shape[0])*100,2)) + \"% of messages have a negative time delta between when they were sent and when the click action was taken.\")"
      ],
      "metadata": {
        "colab": {
          "base_uri": "https://localhost:8080/"
        },
        "id": "B7S-R_9vtPD2",
        "outputId": "d7dd9189-c791-4684-b761-5e49511255c2"
      },
      "execution_count": null,
      "outputs": [
        {
          "output_type": "stream",
          "name": "stdout",
          "text": [
            "Is the action table's 'created' timestamp always later than the 'sent_time' timestamp?\n",
            "\n",
            "CLICKS:\n",
            "True     484080\n",
            "False     36264\n",
            "dtype: int64\n",
            "6.97% of messages have a negative time delta between when they were sent and when the click action was taken.\n",
            "\n",
            "DONATIONS:\n",
            "True     192351\n",
            "False     20955\n",
            "dtype: int64\n",
            "9.82% of messages have a negative time delta between when they were sent and when the click action was taken.\n"
          ]
        }
      ]
    },
    {
      "cell_type": "markdown",
      "source": [
        "#### Success by Campaign"
      ],
      "metadata": {
        "id": "qtwaPzqSMfAs"
      }
    },
    {
      "cell_type": "code",
      "source": [
        "## Identify the number and size of each message campaigns\n",
        "cmpns = pd.DataFrame(df_m.groupby(['broadcast_id', 'organization_id']).size()).reset_index()\n",
        "cmpns.columns = ['broadcast_id', 'organization_id', 'message_count']\n",
        "cmpns = cmpns.sort_values(by=['message_count'], ascending=False).reset_index().drop('index', axis=1)"
      ],
      "metadata": {
        "id": "m6xSBcyK61YX"
      },
      "execution_count": null,
      "outputs": []
    },
    {
      "cell_type": "code",
      "source": [
        "### Plot the message send size\n",
        "plt.bar(cmpns.index,cmpns.message_count)\n",
        "plt.title('Volume of Messages Sent in Each Messaging Campaign')"
      ],
      "metadata": {
        "colab": {
          "base_uri": "https://localhost:8080/",
          "height": 298
        },
        "id": "bedI4u6NMSXT",
        "outputId": "3504038c-bc89-49cc-afd7-90ff16888218"
      },
      "execution_count": null,
      "outputs": [
        {
          "output_type": "execute_result",
          "data": {
            "text/plain": [
              "Text(0.5, 1.0, 'Volume of Messages Sent in Each Messaging Campaign')"
            ]
          },
          "metadata": {},
          "execution_count": 19
        },
        {
          "output_type": "display_data",
          "data": {
            "text/plain": [
              "<Figure size 432x288 with 1 Axes>"
            ],
            "image/png": "[encoded data removed]"
          },
          "metadata": {
            "needs_background": "light"
          }
        }
      ]
    },
    {
      "cell_type": "code",
      "source": [
        "## Calculate click and donation rates for each campaign\n",
        "for col in ['click', 'donation']:\n",
        "  df_ = pd.DataFrame(df_m.groupby(['broadcast_id', 'organization_id']).apply(lambda x: (x[x[col] == 1].shape[0] / x.shape[0])) * 100).reset_index()\n",
        "  df_.columns = ['broadcast_id', 'organization_id', col + '_rate']\n",
        "  cmpns = pd.merge(cmpns, df_, how = 'left', left_on=['broadcast_id', 'organization_id'], right_on=['broadcast_id', 'organization_id'])"
      ],
      "metadata": {
        "id": "JNv9XKMfN9Vt"
      },
      "execution_count": null,
      "outputs": []
    },
    {
      "cell_type": "code",
      "source": [
        "plt.plot(cmpns.message_count,cmpns.click_rate, 'bo')\n",
        "plt.title(\"Click Rate vs Message Count\")"
      ],
      "metadata": {
        "colab": {
          "base_uri": "https://localhost:8080/",
          "height": 298
        },
        "id": "dJFoAxJGQzLq",
        "outputId": "618cfc08-8bb3-41a4-af90-99b1eba78ad3"
      },
      "execution_count": null,
      "outputs": [
        {
          "output_type": "execute_result",
          "data": {
            "text/plain": [
              "Text(0.5, 1.0, 'Click Rate vs Message Count')"
            ]
          },
          "metadata": {},
          "execution_count": 21
        },
        {
          "output_type": "display_data",
          "data": {
            "text/plain": [
              "<Figure size 432x288 with 1 Axes>"
            ],
            "image/png": "[encoded data removed]"
          },
          "metadata": {
            "needs_background": "light"
          }
        }
      ]
    },
    {
      "cell_type": "code",
      "source": [
        "plt.plot(cmpns.message_count,cmpns.donation_rate, 'bo')\n",
        "plt.title(\"Donation Rate vs Message Count\")"
      ],
      "metadata": {
        "colab": {
          "base_uri": "https://localhost:8080/",
          "height": 298
        },
        "id": "-4H9mjmASACc",
        "outputId": "0ed051b0-4351-48d7-dd8c-af4726f65734"
      },
      "execution_count": null,
      "outputs": [
        {
          "output_type": "execute_result",
          "data": {
            "text/plain": [
              "Text(0.5, 1.0, 'Donation Rate vs Message Count')"
            ]
          },
          "metadata": {},
          "execution_count": 22
        },
        {
          "output_type": "display_data",
          "data": {
            "text/plain": [
              "<Figure size 432x288 with 1 Axes>"
            ],
            "image/png": "[encoded data removed]"
          },
          "metadata": {
            "needs_background": "light"
          }
        }
      ]
    },
    {
      "cell_type": "markdown",
      "source": [
        "## Create Features \n",
        "\n",
        "Outcomes:\n",
        "*   Click\n",
        "*   Donation\n",
        "\n",
        "Inputs: \n",
        "*   Time of day (int): hour of the day extracted from `sent_time`\n",
        "*   Organization (boolean): Dummy variables created from `organization_id` column\n",
        "*   Broadcast (boolean): Dummy variables created from `broadcast_id` column\n",
        "*   Message Type (boolean): Dummy variable created from `message_type` column\n",
        "*   Click time since send (timedelta): timedelta from `sent_time` to `click_time`\n",
        "*   Donation time since send (timedelta): timedelta from `sent_time` to `donation_time`\n",
        "*   Personalization (boolean): Dummy variable created from `text` column if there's a first name in the text of the message.  \n"
      ],
      "metadata": {
        "id": "eqe8NQSVSMYe"
      }
    },
    {
      "cell_type": "code",
      "source": [
        "## Only keep necessary columns\n",
        "df = df_m[['click', 'donation', 'sent_time', 'organization_id', 'broadcast_id', 'message_type', 'click_time', 'donation_time', 'text']]"
      ],
      "metadata": {
        "id": "2SyoBxwVSQID"
      },
      "execution_count": null,
      "outputs": []
    },
    {
      "cell_type": "code",
      "source": [
        "## Extract hour of day from `sent_time`\n",
        "df['hour_of_day'] = [i.hour for i in df['sent_time']]"
      ],
      "metadata": {
        "id": "_JoCBWCwUrpK"
      },
      "execution_count": null,
      "outputs": []
    },
    {
      "cell_type": "code",
      "source": [
        "## Create org_id dummy variables\n",
        "df['organization_id'] = ['org_' + str(i) for i in df['organization_id']]\n",
        "df = df.join(df['organization_id'].astype(str).str.get_dummies())"
      ],
      "metadata": {
        "id": "Rctf--5cU0fT"
      },
      "execution_count": null,
      "outputs": []
    },
    {
      "cell_type": "code",
      "source": [
        "## Create broadcast_id dummy variables\n",
        "df['broadcast_id'] = ['msg_' + str(i) for i in df['broadcast_id']]\n",
        "df = df.join(df['broadcast_id'].astype(str).str.get_dummies())"
      ],
      "metadata": {
        "id": "VNPCFq2sZGLq"
      },
      "execution_count": null,
      "outputs": []
    },
    {
      "cell_type": "code",
      "source": [
        "## Create message type dummy variables\n",
        "df = df.join(df['message_type'].astype(str).str.get_dummies())"
      ],
      "metadata": {
        "id": "lf8pKFyeYSVE"
      },
      "execution_count": null,
      "outputs": []
    },
    {
      "cell_type": "code",
      "source": [
        "df.head()"
      ],
      "metadata": {
        "id": "NnISziOHWGbv"
      },
      "execution_count": null,
      "outputs": []
    }
  ]
}